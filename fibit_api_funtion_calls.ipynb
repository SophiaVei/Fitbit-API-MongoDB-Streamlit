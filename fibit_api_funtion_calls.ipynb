{
 "cells": [
  {
   "cell_type": "code",
   "execution_count": 6,
   "outputs": [],
   "source": [
    "from api.fitbit_client import FitbitApiClient\n",
    "from datetime import date,timedelta\n",
    "import pandas as pd"
   ],
   "metadata": {
    "collapsed": false,
    "ExecuteTime": {
     "start_time": "2023-04-17T22:51:03.320887Z",
     "end_time": "2023-04-17T22:51:03.327889Z"
    }
   }
  },
  {
   "cell_type": "code",
   "execution_count": 7,
   "outputs": [
    {
     "name": "stderr",
     "output_type": "stream",
     "text": [
      "[17/Apr/2023:22:51:03] ENGINE Listening for SIGTERM.\n",
      "[17/Apr/2023:22:51:03] ENGINE Bus STARTING\n",
      "[17/Apr/2023:22:51:03] ENGINE Set handler for console events.\n",
      "[17/Apr/2023:22:51:03] ENGINE Started monitor thread 'Autoreloader'.\n",
      "[17/Apr/2023:22:51:04] ENGINE Serving on http://127.0.0.1:8000\n",
      "[17/Apr/2023:22:51:04] ENGINE Bus STARTED\n"
     ]
    },
    {
     "name": "stdout",
     "output_type": "stream",
     "text": [
      "127.0.0.1 - - [17/Apr/2023:22:51:05] \"GET /?code=dea6a03244607f407e92bfa65f03e2eff1c3b86b&state=uCQ8q5301JRFR0ckEX58jDAPNYMHqG HTTP/1.1\" 200 122 \"\" \"Mozilla/5.0 (Windows NT 10.0; Win64; x64; rv:109.0) Gecko/20100101 Firefox/112.0\"\n"
     ]
    },
    {
     "name": "stderr",
     "output_type": "stream",
     "text": [
      "[17/Apr/2023:22:51:06] ENGINE Bus STOPPING\n",
      "[17/Apr/2023:22:51:06] ENGINE HTTP Server cherrypy._cpwsgi_server.CPWSGIServer(('127.0.0.1', 8000)) shut down\n",
      "[17/Apr/2023:22:51:06] ENGINE Stopped thread 'Autoreloader'.\n",
      "[17/Apr/2023:22:51:06] ENGINE Removed handler for console events.\n",
      "[17/Apr/2023:22:51:06] ENGINE Bus STOPPED\n",
      "[17/Apr/2023:22:51:06] ENGINE Bus EXITING\n",
      "[17/Apr/2023:22:51:06] ENGINE Waiting for child threads to terminate...\n",
      "[17/Apr/2023:22:51:06] ENGINE Bus EXITED\n",
      "[17/Apr/2023:22:51:06] ENGINE Waiting for thread Thread-60.\n"
     ]
    },
    {
     "name": "stdout",
     "output_type": "stream",
     "text": [
      "{'totalMinutesAsleep': 0, 'totalSleepRecords': 0, 'totalTimeInBed': 0}\n",
      "{'stages': {'deep': 48, 'light': 228, 'rem': 66, 'wake': 55}, 'totalMinutesAsleep': 395, 'totalSleepRecords': 1, 'totalTimeInBed': 397}\n",
      "{'totalMinutesAsleep': 0, 'totalSleepRecords': 0, 'totalTimeInBed': 0}\n",
      "{'stages': {'deep': 40, 'light': 206, 'rem': 89, 'wake': 37}, 'totalMinutesAsleep': 365, 'totalSleepRecords': 1, 'totalTimeInBed': 372}\n",
      "{'stages': {'deep': 87, 'light': 174, 'rem': 88, 'wake': 54}, 'totalMinutesAsleep': 392, 'totalSleepRecords': 1, 'totalTimeInBed': 403}\n",
      "{'stages': {'deep': 38, 'light': 181, 'rem': 62, 'wake': 47}, 'totalMinutesAsleep': 323, 'totalSleepRecords': 1, 'totalTimeInBed': 328}\n",
      "{'stages': {'deep': 81, 'light': 243, 'rem': 126, 'wake': 69}, 'totalMinutesAsleep': 508, 'totalSleepRecords': 1, 'totalTimeInBed': 519}\n",
      "{'stages': {'deep': 28, 'light': 286, 'rem': 17, 'wake': 63}, 'totalMinutesAsleep': 381, 'totalSleepRecords': 1, 'totalTimeInBed': 394}\n",
      "{'stages': {'deep': 58, 'light': 204, 'rem': 51, 'wake': 41}, 'totalMinutesAsleep': 349, 'totalSleepRecords': 1, 'totalTimeInBed': 354}\n",
      "{'stages': {'deep': 59, 'light': 185, 'rem': 18, 'wake': 49}, 'totalMinutesAsleep': 305, 'totalSleepRecords': 1, 'totalTimeInBed': 311}\n",
      "{'stages': {'deep': 95, 'light': 268, 'rem': 126, 'wake': 65}, 'totalMinutesAsleep': 544, 'totalSleepRecords': 1, 'totalTimeInBed': 554}\n",
      "{'stages': {'deep': 61, 'light': 270, 'rem': 93, 'wake': 76}, 'totalMinutesAsleep': 481, 'totalSleepRecords': 1, 'totalTimeInBed': 500}\n",
      "{'stages': {'deep': 81, 'light': 200, 'rem': 110, 'wake': 65}, 'totalMinutesAsleep': 439, 'totalSleepRecords': 1, 'totalTimeInBed': 456}\n",
      "{'stages': {'deep': 41, 'light': 250, 'rem': 47, 'wake': 80}, 'totalMinutesAsleep': 405, 'totalSleepRecords': 1, 'totalTimeInBed': 418}\n",
      "{'stages': {'deep': 36, 'light': 191, 'rem': 64, 'wake': 30}, 'totalMinutesAsleep': 314, 'totalSleepRecords': 1, 'totalTimeInBed': 321}\n",
      "{'stages': {'deep': 68, 'light': 271, 'rem': 104, 'wake': 51}, 'totalMinutesAsleep': 489, 'totalSleepRecords': 1, 'totalTimeInBed': 494}\n",
      "{'stages': {'deep': 54, 'light': 145, 'rem': 57, 'wake': 23}, 'totalMinutesAsleep': 272, 'totalSleepRecords': 1, 'totalTimeInBed': 279}\n",
      "{'stages': {'deep': 96, 'light': 215, 'rem': 125, 'wake': 49}, 'totalMinutesAsleep': 479, 'totalSleepRecords': 1, 'totalTimeInBed': 485}\n",
      "{'totalMinutesAsleep': 0, 'totalSleepRecords': 0, 'totalTimeInBed': 0}\n",
      "{'stages': {'deep': 82, 'light': 307, 'rem': 116, 'wake': 72}, 'totalMinutesAsleep': 542, 'totalSleepRecords': 1, 'totalTimeInBed': 577}\n",
      "{'stages': {'deep': 79, 'light': 179, 'rem': 134, 'wake': 25}, 'totalMinutesAsleep': 411, 'totalSleepRecords': 1, 'totalTimeInBed': 417}\n",
      "{'stages': {'deep': 49, 'light': 199, 'rem': 71, 'wake': 47}, 'totalMinutesAsleep': 350, 'totalSleepRecords': 1, 'totalTimeInBed': 366}\n"
     ]
    }
   ],
   "source": [
    "CLIENT_ID = '23QRJ6'\n",
    "CLIENT_SECRET = 'abb49f0cdfcfd2605f02fcae11dda3b4'\n",
    "item = FitbitApiClient(CLIENT_ID,CLIENT_SECRET)\n",
    "startTime = date(year = 2023, month = 3, day = 27)\n",
    "endTime = date.today()\n",
    "allDates = pd.date_range(start=startTime, end = endTime)\n",
    "item.get_sleep_for_daterange(startTime,endTime)"
   ],
   "metadata": {
    "collapsed": false,
    "ExecuteTime": {
     "start_time": "2023-04-17T22:51:03.970221Z",
     "end_time": "2023-04-17T22:51:14.621897Z"
    }
   }
  },
  {
   "cell_type": "code",
   "execution_count": null,
   "outputs": [],
   "source": [],
   "metadata": {
    "collapsed": false
   }
  }
 ],
 "metadata": {
  "kernelspec": {
   "display_name": "Python 3",
   "language": "python",
   "name": "python3"
  },
  "language_info": {
   "codemirror_mode": {
    "name": "ipython",
    "version": 2
   },
   "file_extension": ".py",
   "mimetype": "text/x-python",
   "name": "python",
   "nbconvert_exporter": "python",
   "pygments_lexer": "ipython2",
   "version": "2.7.6"
  }
 },
 "nbformat": 4,
 "nbformat_minor": 0
}
